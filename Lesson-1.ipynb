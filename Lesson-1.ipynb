{
 "cells": [
  {
   "cell_type": "markdown",
   "metadata": {},
   "source": [
    "#### Как относятся друг к другу множество и последовательность? (в ответе использовать слова типа: часть, целое, общее, частное, родитель, дочерний субъект и т.д.)"
   ]
  },
  {
   "cell_type": "markdown",
   "metadata": {},
   "source": [
    "Поскольку последовательности являются результатом выбора элементов заданных множеств, я бы сказал что последовательность относится к множеству как дочерний субъект к родителю."
   ]
  },
  {
   "cell_type": "markdown",
   "metadata": {},
   "source": [
    "#### Прочитать высказывания математической логики, построить их отрицания и *установить истинность."
   ]
  },
  {
   "cell_type": "markdown",
   "metadata": {},
   "source": [
    "1. Для любого y от 0 до 1, сигнум равен 1.  \n",
    "Отрицание: $$\\exists y\\in [0; 1] : sgn(y)\\not=1$$\n",
    "\n",
    "\n",
    "2. Для любого натурального числа n, большего 2, существуют такие натуральные x, y и z, при которых x в степени n равен сумме y в степени n и z в степени n.  \n",
    "Отрицание: $$\\exists n\\in \\mathbb{N}>2 :\\forall x, y, z\\in \\mathbb{N} : x^n\\ne y^n + z^n$$  \n",
    "\n",
    "\n",
    "3. Для любого вещественного числа x существует вещественное число X, которое больше x.  \n",
    "Отрицание: $$\\exists x\\in \\mathbb{R}\\forall X\\in \\mathbb{R} : X\\leq x$$\n",
    "\n",
    "\n",
    "4. Для любого комплексного x не существует комплексного y, при котором x больше y или x меньше y.  \n",
    "Отрицание: $$\\exists x\\in \\mathbb{C}\\forall y\\in \\mathbb{C} : x\\leq y, \\ x\\geq y$$\n",
    "\n",
    "\n",
    "5. Для любого y от 0 до pi/2 существует epsilon больше 0, при котором sin(y) < sin(y + epsilon).  \n",
    "Отрицание: $$\\exists y\\in[0; \\frac\\pi2]\\forall \\varepsilon\\leq 0 : sin(y)\\geq sin(y + \\varepsilon)$$\n",
    "\n",
    "\n",
    "6. Для любого y от 0 до pi (не включая pi) существует epsilon больше 0, при котором cos(y) > cos(y + epsilon).  \n",
    "Отрицание: $$\\exists y\\in[0; \\pi)\\forall\\varepsilon\\leq 0 : cos(y)\\leq \\cos(y + \\varepsilon)$$\n",
    "\n",
    "\n",
    "7. Существует x, не принадлежащий множествам натуральных, целых, рациональных, вещественных и комплексных чисел.  \n",
    "Отрицание: $$\\forall x : x\\notin \\{ \\mathbb {N, Z, Q, R, C } \\}$$"
   ]
  },
  {
   "cell_type": "code",
   "execution_count": null,
   "metadata": {},
   "outputs": [],
   "source": []
  },
  {
   "cell_type": "markdown",
   "metadata": {},
   "source": [
    "#### 1. Даны три множества a,b и с. Необходимо выполнить все изученные виды бинарных операций над всеми комбинациями множеств.\n",
    "\n",
    "#### 2.   *Выполнить задание 1 на языке Python\n"
   ]
  },
  {
   "cell_type": "code",
   "execution_count": 5,
   "metadata": {},
   "outputs": [
    {
     "name": "stdout",
     "output_type": "stream",
     "text": [
      "{'3', '2', '1', '4'} {'3', '6', '5', '4'} {'7', '8', '6', '1'}\n"
     ]
    }
   ],
   "source": [
    "a = set('1234')\n",
    "b = set('3456')\n",
    "c = set('1678')\n",
    "print(a, b, c)"
   ]
  },
  {
   "cell_type": "code",
   "execution_count": 11,
   "metadata": {},
   "outputs": [
    {
     "name": "stdout",
     "output_type": "stream",
     "text": [
      "{'3', '4'}\n",
      "{'6'}\n",
      "{'1'}\n"
     ]
    }
   ],
   "source": [
    "# Пересечение\n",
    "print(a & b)\n",
    "print(b & c)\n",
    "print(c & a)"
   ]
  },
  {
   "cell_type": "code",
   "execution_count": 8,
   "metadata": {},
   "outputs": [
    {
     "name": "stdout",
     "output_type": "stream",
     "text": [
      "{'3', '4', '1', '6', '5', '2'}\n",
      "{'3', '4', '1', '6', '5', '7', '8'}\n",
      "{'3', '4', '1', '6', '7', '8', '2'}\n"
     ]
    }
   ],
   "source": [
    "# Объединение\n",
    "print(a | b)\n",
    "print(b | c)\n",
    "print(c | a)"
   ]
  },
  {
   "cell_type": "code",
   "execution_count": 12,
   "metadata": {},
   "outputs": [
    {
     "name": "stdout",
     "output_type": "stream",
     "text": [
      "{'1', '2'}\n",
      "{'6', '5'}\n",
      "{'3', '5', '4'}\n",
      "{'7', '8', '1'}\n",
      "{'3', '2', '4'}\n",
      "{'7', '8', '6'}\n"
     ]
    }
   ],
   "source": [
    "# Разность\n",
    "print(a - b)\n",
    "print(b - a)\n",
    "print(b - c)\n",
    "print(c - b)\n",
    "print(a - c)\n",
    "print(c - a)"
   ]
  },
  {
   "cell_type": "code",
   "execution_count": 14,
   "metadata": {},
   "outputs": [
    {
     "name": "stdout",
     "output_type": "stream",
     "text": [
      "{'1', '6', '5', '2'}\n",
      "{'3', '4', '1', '5', '7', '8'}\n",
      "{'3', '4', '6', '7', '8', '2'}\n"
     ]
    }
   ],
   "source": [
    "# Симметрическая разность\n",
    "print(a ^ b)\n",
    "print(b ^ c)\n",
    "print(c ^ a)"
   ]
  },
  {
   "cell_type": "code",
   "execution_count": 24,
   "metadata": {},
   "outputs": [
    {
     "name": "stdout",
     "output_type": "stream",
     "text": [
      "('3', '3')\n",
      "('3', '6')\n",
      "('3', '5')\n",
      "('3', '4')\n",
      "('2', '3')\n",
      "('2', '6')\n",
      "('2', '5')\n",
      "('2', '4')\n",
      "('1', '3')\n",
      "('1', '6')\n",
      "('1', '5')\n",
      "('1', '4')\n",
      "('4', '3')\n",
      "('4', '6')\n",
      "('4', '5')\n",
      "('4', '4')\n",
      "\n",
      "('3', '7')\n",
      "('3', '8')\n",
      "('3', '6')\n",
      "('3', '1')\n",
      "('6', '7')\n",
      "('6', '8')\n",
      "('6', '6')\n",
      "('6', '1')\n",
      "('5', '7')\n",
      "('5', '8')\n",
      "('5', '6')\n",
      "('5', '1')\n",
      "('4', '7')\n",
      "('4', '8')\n",
      "('4', '6')\n",
      "('4', '1')\n",
      "\n",
      "('7', '3')\n",
      "('7', '2')\n",
      "('7', '1')\n",
      "('7', '4')\n",
      "('8', '3')\n",
      "('8', '2')\n",
      "('8', '1')\n",
      "('8', '4')\n",
      "('6', '3')\n",
      "('6', '2')\n",
      "('6', '1')\n",
      "('6', '4')\n",
      "('1', '3')\n",
      "('1', '2')\n",
      "('1', '1')\n",
      "('1', '4')\n",
      "\n",
      "('3', '3')\n",
      "('3', '2')\n",
      "('3', '1')\n",
      "('3', '4')\n",
      "('6', '3')\n",
      "('6', '2')\n",
      "('6', '1')\n",
      "('6', '4')\n",
      "('5', '3')\n",
      "('5', '2')\n",
      "('5', '1')\n",
      "('5', '4')\n",
      "('4', '3')\n",
      "('4', '2')\n",
      "('4', '1')\n",
      "('4', '4')\n",
      "\n",
      "('7', '3')\n",
      "('7', '6')\n",
      "('7', '5')\n",
      "('7', '4')\n",
      "('8', '3')\n",
      "('8', '6')\n",
      "('8', '5')\n",
      "('8', '4')\n",
      "('6', '3')\n",
      "('6', '6')\n",
      "('6', '5')\n",
      "('6', '4')\n",
      "('1', '3')\n",
      "('1', '6')\n",
      "('1', '5')\n",
      "('1', '4')\n",
      "\n",
      "('3', '7')\n",
      "('3', '8')\n",
      "('3', '6')\n",
      "('3', '1')\n",
      "('2', '7')\n",
      "('2', '8')\n",
      "('2', '6')\n",
      "('2', '1')\n",
      "('1', '7')\n",
      "('1', '8')\n",
      "('1', '6')\n",
      "('1', '1')\n",
      "('4', '7')\n",
      "('4', '8')\n",
      "('4', '6')\n",
      "('4', '1')\n"
     ]
    }
   ],
   "source": [
    "# Декартово произведение\n",
    "import itertools\n",
    "\n",
    "for i in itertools.product(a, b):\n",
    "    print(i)\n",
    "\n",
    "print('')\n",
    "\n",
    "for i in itertools.product(b, c):\n",
    "    print(i)\n",
    "\n",
    "print('')\n",
    "\n",
    "for i in itertools.product(c, a):\n",
    "    print(i)\n",
    "\n",
    "print('')\n",
    "\n",
    "for i in itertools.product(b, a):\n",
    "    print(i)\n",
    "\n",
    "print('')\n",
    "\n",
    "for i in itertools.product(c, b):\n",
    "    print(i)\n",
    "\n",
    "print('')\n",
    "\n",
    "for i in itertools.product(a, c):\n",
    "    print(i)"
   ]
  },
  {
   "cell_type": "code",
   "execution_count": null,
   "metadata": {},
   "outputs": [],
   "source": []
  },
  {
   "cell_type": "markdown",
   "metadata": {},
   "source": [
    "#### Даны 4 последовательности.\n",
    "\n",
    "#### Необходимо:\n",
    "#### 1) исследовать их на монотонность; \n",
    "#### 2) исследовать на ограниченность;\n",
    "#### 3) найти пятый по счету член."
   ]
  },
  {
   "cell_type": "markdown",
   "metadata": {},
   "source": [
    "1. Возрастающая неограниченная\n",
    "2. Возрастающая ограниченная\n",
    "3. Убывающая неограниченная\n",
    "4. Убывающая ограниченная\n",
    "\n",
    "Пятый по счету член ?"
   ]
  },
  {
   "cell_type": "code",
   "execution_count": null,
   "metadata": {},
   "outputs": [],
   "source": []
  },
  {
   "cell_type": "markdown",
   "metadata": {},
   "source": [
    "#### Найти 12-й член заданной неявно последовательности  "
   ]
  },
  {
   "cell_type": "code",
   "execution_count": 29,
   "metadata": {},
   "outputs": [
    {
     "data": {
      "text/plain": [
       "194"
      ]
     },
     "execution_count": 29,
     "metadata": {},
     "output_type": "execute_result"
    }
   ],
   "source": [
    "a1 = 128\n",
    "da = 6\n",
    "n = 12\n",
    "an = a1 + da * (n - 1)\n",
    "an"
   ]
  },
  {
   "cell_type": "code",
   "execution_count": null,
   "metadata": {},
   "outputs": [],
   "source": []
  },
  {
   "cell_type": "markdown",
   "metadata": {},
   "source": [
    "#### 5)  *На языке Python предложить алгоритм вычисляющий численно предел.\n",
    "#### 6) *Предложить оптимизацию алгоритма, полученного в задании 5, ускоряющую его сходимость."
   ]
  },
  {
   "cell_type": "code",
   "execution_count": 1,
   "metadata": {},
   "outputs": [],
   "source": [
    "# Более изящного и универсального решения как разобраться с очень большим результатом вычисления факториала не придумал"
   ]
  },
  {
   "cell_type": "code",
   "execution_count": 2,
   "metadata": {},
   "outputs": [],
   "source": [
    "import math\n",
    "from decimal import Decimal"
   ]
  },
  {
   "cell_type": "code",
   "execution_count": 3,
   "metadata": {},
   "outputs": [],
   "source": [
    "def limit(n, i = 139):\n",
    "    f = Decimal(math.factorial(n))\n",
    "    p1 = (1 / n)\n",
    "    k = int(Decimal(1e308))\n",
    "    p = (math.pow(f / k**i, p1) * math.pow(k, p1)**i)\n",
    "    return (n / p)"
   ]
  },
  {
   "cell_type": "code",
   "execution_count": 4,
   "metadata": {},
   "outputs": [
    {
     "name": "stdout",
     "output_type": "stream",
     "text": [
      "2.7169884237242528\n"
     ]
    }
   ],
   "source": [
    "lim_n = 0\n",
    "lim_n_prev = 1\n",
    "n = 11770\n",
    "\n",
    "while abs(lim_n_prev - lim_n) > 1e-7:\n",
    "    lim_n_prev = lim_n\n",
    "    lim_n = limit(n)\n",
    "    n += 1\n",
    "    \n",
    "print(lim_n)"
   ]
  },
  {
   "cell_type": "code",
   "execution_count": null,
   "metadata": {},
   "outputs": [],
   "source": []
  }
 ],
 "metadata": {
  "kernelspec": {
   "display_name": "Python 3",
   "language": "python",
   "name": "python3"
  },
  "language_info": {
   "codemirror_mode": {
    "name": "ipython",
    "version": 3
   },
   "file_extension": ".py",
   "mimetype": "text/x-python",
   "name": "python",
   "nbconvert_exporter": "python",
   "pygments_lexer": "ipython3",
   "version": "3.7.1"
  }
 },
 "nbformat": 4,
 "nbformat_minor": 2
}
